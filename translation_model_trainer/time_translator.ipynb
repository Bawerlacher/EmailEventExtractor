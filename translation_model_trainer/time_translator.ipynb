{
 "cells": [
  {
   "cell_type": "code",
   "execution_count": 1,
   "metadata": {},
   "outputs": [
    {
     "name": "stderr",
     "output_type": "stream",
     "text": [
      "Using TensorFlow backend.\n"
     ]
    }
   ],
   "source": [
    "import random\n",
    "from keras.layers import Bidirectional, Concatenate, LSTM, Dot, Input, Multiply\n",
    "from keras.layers import RepeatVector, Dense, Activation, Lambda\n",
    "from keras.optimizers import Adam, RMSprop\n",
    "from keras.utils import to_categorical\n",
    "from keras.models import Model\n",
    "import keras.backend as K"
   ]
  },
  {
   "cell_type": "code",
   "execution_count": 2,
   "metadata": {},
   "outputs": [],
   "source": [
    "data = []\n",
    "hvocab = set()\n",
    "mvocab = set()\n",
    "with open('time.txt') as inputfile:\n",
    "    for row in inputfile:\n",
    "        row = row[:-1]\n",
    "        cont = row.split('\\t')\n",
    "        if len(cont) < 2:\n",
    "            print(cont)\n",
    "        data.append((cont[0].lower(), cont[1]))\n",
    "        hvocab.update(tuple(cont[0].lower()))\n",
    "        mvocab.update(tuple(cont[1]))"
   ]
  },
  {
   "cell_type": "code",
   "execution_count": 3,
   "metadata": {},
   "outputs": [
    {
     "name": "stdout",
     "output_type": "stream",
     "text": [
      "[('9 am', '09:00-99:99'), ('5am - 4pm', '05:00-16:00'), ('9:21 and 10:11am', '09:21-10:11'), ('12 pm to 9 pm', '12:00-21:00'), ('9:23', '21:23-99:99'), ('8:25', '20:25-99:99'), ('7:56 pm to 11:21 am', '19:56-11:21'), ('8:06am-4:45am', '08:06-04:45'), ('1', '01:00-99:99'), ('11:48pm', '23:48-99:99')]\n"
     ]
    }
   ],
   "source": [
    "random.shuffle(data)\n",
    "print(data[:10])"
   ]
  },
  {
   "cell_type": "code",
   "execution_count": 4,
   "metadata": {},
   "outputs": [],
   "source": [
    "inv_mdict = dict(enumerate(sorted(mvocab)))\n",
    "mdict = {c:k for k, c in inv_mdict.items()}\n",
    "hlist = sorted(hvocab)\n",
    "hlist.append('<unk>')\n",
    "hlist = ['<pad>'] + hlist\n",
    "hdict = {hlist[i]:i for i in range(len(hlist))}\n",
    "datelen = 30\n",
    "def prehum(x):\n",
    "    x = x.lower().replace(',', '')\n",
    "    xnum = [hdict[c] if c in hdict else hdict['<unk>'] for c in x]\n",
    "    while len(xnum) < datelen:\n",
    "        xnum.append(0)\n",
    "    onehot = [to_categorical(i, num_classes=len(hdict)) for i in xnum]\n",
    "    return onehot\n",
    "\n",
    "def premac(x):\n",
    "    xnum = [mdict[c] for c in x]\n",
    "    onehot = [to_categorical(i, num_classes=len(mdict)) for i in xnum]\n",
    "    return onehot"
   ]
  },
  {
   "cell_type": "code",
   "execution_count": 5,
   "metadata": {},
   "outputs": [
    {
     "name": "stdout",
     "output_type": "stream",
     "text": [
      "47500 2500\n"
     ]
    }
   ],
   "source": [
    "from sklearn.model_selection import train_test_split\n",
    "train_data, test_data = train_test_split(data, test_size=0.05)\n",
    "print(len(train_data), len(test_data))"
   ]
  },
  {
   "cell_type": "code",
   "execution_count": 6,
   "metadata": {},
   "outputs": [],
   "source": [
    "import numpy as np"
   ]
  },
  {
   "cell_type": "code",
   "execution_count": 7,
   "metadata": {},
   "outputs": [],
   "source": [
    "trainX = np.array([prehum(d[0]) for d in train_data])\n",
    "trainy = np.array([premac(d[1]) for d in train_data])\n",
    "testX = np.array([prehum(d[0]) for d in test_data])\n",
    "testy = np.array([premac(d[1]) for d in test_data])"
   ]
  },
  {
   "cell_type": "code",
   "execution_count": 8,
   "metadata": {},
   "outputs": [],
   "source": [
    "xl = 30\n",
    "yl = 11"
   ]
  },
  {
   "cell_type": "code",
   "execution_count": 9,
   "metadata": {},
   "outputs": [],
   "source": [
    "def softmax(x, axis=1):\n",
    "    dim = K.ndim(x)\n",
    "    if dim == 2:\n",
    "        return K.softmax(x)\n",
    "    elif dim > 2:\n",
    "        e = K.exp(x - K.max(x, axis=axis, keepdims=True))\n",
    "        s = K.sum(e, axis=axis, keepdims=True)\n",
    "        return e / s\n",
    "    else:\n",
    "        raise ValueError('Cannot apply softmax to a tensor that is 1D')"
   ]
  },
  {
   "cell_type": "code",
   "execution_count": 10,
   "metadata": {},
   "outputs": [],
   "source": [
    "def attention(a, s_prev):\n",
    "    s_prev = RepeatVector(xl)(s_prev)\n",
    "    concat = Concatenate(axis=-1)([a, s_prev])\n",
    "    d1 = Dense(10, activation=\"tanh\")(concat)\n",
    "    d2 = Dense(1, activation=\"relu\")(d1)\n",
    "    alphas = Activation(softmax)(d2)\n",
    "    return Dot(axes=1)([alphas, a])"
   ]
  },
  {
   "cell_type": "code",
   "execution_count": 11,
   "metadata": {},
   "outputs": [],
   "source": [
    "def modeling(xl, yl, n_a, n_s, hvocab_size, mvocab_size):\n",
    "    X = Input(shape=(xl, hvocab_size))\n",
    "    s0 = Input(shape=(n_s,))\n",
    "    c0 = Input(shape=(n_s,))\n",
    "    s = s0\n",
    "    c = c0\n",
    "    outputs = []\n",
    "    a=Bidirectional(LSTM(units=n_a, return_sequences=True))(X)\n",
    "    for i in range(0, yl):\n",
    "        context=attention(a, s)\n",
    "        s,_,c = LSTM(n_s, return_state=True)(inputs=context, initial_state=[s,c])\n",
    "        out = Dense(len(mdict), activation=softmax)(s)\n",
    "        outputs.append(out)\n",
    "    return Model(inputs=(X, s0, c0), outputs=outputs)"
   ]
  },
  {
   "cell_type": "code",
   "execution_count": 12,
   "metadata": {},
   "outputs": [
    {
     "name": "stdout",
     "output_type": "stream",
     "text": [
      "Model: \"model_1\"\n",
      "__________________________________________________________________________________________________\n",
      "Layer (type)                    Output Shape         Param #     Connected to                     \n",
      "==================================================================================================\n",
      "input_1 (InputLayer)            (None, 30, 26)       0                                            \n",
      "__________________________________________________________________________________________________\n",
      "input_2 (InputLayer)            (None, 64)           0                                            \n",
      "__________________________________________________________________________________________________\n",
      "bidirectional_1 (Bidirectional) (None, 30, 64)       15104       input_1[0][0]                    \n",
      "__________________________________________________________________________________________________\n",
      "repeat_vector_1 (RepeatVector)  (None, 30, 64)       0           input_2[0][0]                    \n",
      "__________________________________________________________________________________________________\n",
      "concatenate_1 (Concatenate)     (None, 30, 128)      0           bidirectional_1[0][0]            \n",
      "                                                                 repeat_vector_1[0][0]            \n",
      "__________________________________________________________________________________________________\n",
      "dense_1 (Dense)                 (None, 30, 10)       1290        concatenate_1[0][0]              \n",
      "__________________________________________________________________________________________________\n",
      "dense_2 (Dense)                 (None, 30, 1)        11          dense_1[0][0]                    \n",
      "__________________________________________________________________________________________________\n",
      "activation_1 (Activation)       (None, 30, 1)        0           dense_2[0][0]                    \n",
      "__________________________________________________________________________________________________\n",
      "dot_1 (Dot)                     (None, 1, 64)        0           activation_1[0][0]               \n",
      "                                                                 bidirectional_1[0][0]            \n",
      "__________________________________________________________________________________________________\n",
      "input_3 (InputLayer)            (None, 64)           0                                            \n",
      "__________________________________________________________________________________________________\n",
      "lstm_2 (LSTM)                   [(None, 64), (None,  33024       dot_1[0][0]                      \n",
      "                                                                 input_2[0][0]                    \n",
      "                                                                 input_3[0][0]                    \n",
      "__________________________________________________________________________________________________\n",
      "repeat_vector_2 (RepeatVector)  (None, 30, 64)       0           lstm_2[0][0]                     \n",
      "__________________________________________________________________________________________________\n",
      "concatenate_2 (Concatenate)     (None, 30, 128)      0           bidirectional_1[0][0]            \n",
      "                                                                 repeat_vector_2[0][0]            \n",
      "__________________________________________________________________________________________________\n",
      "dense_4 (Dense)                 (None, 30, 10)       1290        concatenate_2[0][0]              \n",
      "__________________________________________________________________________________________________\n",
      "dense_5 (Dense)                 (None, 30, 1)        11          dense_4[0][0]                    \n",
      "__________________________________________________________________________________________________\n",
      "activation_2 (Activation)       (None, 30, 1)        0           dense_5[0][0]                    \n",
      "__________________________________________________________________________________________________\n",
      "dot_2 (Dot)                     (None, 1, 64)        0           activation_2[0][0]               \n",
      "                                                                 bidirectional_1[0][0]            \n",
      "__________________________________________________________________________________________________\n",
      "lstm_3 (LSTM)                   [(None, 64), (None,  33024       dot_2[0][0]                      \n",
      "                                                                 lstm_2[0][0]                     \n",
      "                                                                 lstm_2[0][2]                     \n",
      "__________________________________________________________________________________________________\n",
      "repeat_vector_3 (RepeatVector)  (None, 30, 64)       0           lstm_3[0][0]                     \n",
      "__________________________________________________________________________________________________\n",
      "concatenate_3 (Concatenate)     (None, 30, 128)      0           bidirectional_1[0][0]            \n",
      "                                                                 repeat_vector_3[0][0]            \n",
      "__________________________________________________________________________________________________\n",
      "dense_7 (Dense)                 (None, 30, 10)       1290        concatenate_3[0][0]              \n",
      "__________________________________________________________________________________________________\n",
      "dense_8 (Dense)                 (None, 30, 1)        11          dense_7[0][0]                    \n",
      "__________________________________________________________________________________________________\n",
      "activation_3 (Activation)       (None, 30, 1)        0           dense_8[0][0]                    \n",
      "__________________________________________________________________________________________________\n",
      "dot_3 (Dot)                     (None, 1, 64)        0           activation_3[0][0]               \n",
      "                                                                 bidirectional_1[0][0]            \n",
      "__________________________________________________________________________________________________\n",
      "lstm_4 (LSTM)                   [(None, 64), (None,  33024       dot_3[0][0]                      \n",
      "                                                                 lstm_3[0][0]                     \n",
      "                                                                 lstm_3[0][2]                     \n",
      "__________________________________________________________________________________________________\n",
      "repeat_vector_4 (RepeatVector)  (None, 30, 64)       0           lstm_4[0][0]                     \n",
      "__________________________________________________________________________________________________\n",
      "concatenate_4 (Concatenate)     (None, 30, 128)      0           bidirectional_1[0][0]            \n",
      "                                                                 repeat_vector_4[0][0]            \n",
      "__________________________________________________________________________________________________\n",
      "dense_10 (Dense)                (None, 30, 10)       1290        concatenate_4[0][0]              \n",
      "__________________________________________________________________________________________________\n",
      "dense_11 (Dense)                (None, 30, 1)        11          dense_10[0][0]                   \n",
      "__________________________________________________________________________________________________\n",
      "activation_4 (Activation)       (None, 30, 1)        0           dense_11[0][0]                   \n",
      "__________________________________________________________________________________________________\n",
      "dot_4 (Dot)                     (None, 1, 64)        0           activation_4[0][0]               \n",
      "                                                                 bidirectional_1[0][0]            \n",
      "__________________________________________________________________________________________________\n",
      "lstm_5 (LSTM)                   [(None, 64), (None,  33024       dot_4[0][0]                      \n",
      "                                                                 lstm_4[0][0]                     \n",
      "                                                                 lstm_4[0][2]                     \n",
      "__________________________________________________________________________________________________\n",
      "repeat_vector_5 (RepeatVector)  (None, 30, 64)       0           lstm_5[0][0]                     \n",
      "__________________________________________________________________________________________________\n",
      "concatenate_5 (Concatenate)     (None, 30, 128)      0           bidirectional_1[0][0]            \n",
      "                                                                 repeat_vector_5[0][0]            \n",
      "__________________________________________________________________________________________________\n",
      "dense_13 (Dense)                (None, 30, 10)       1290        concatenate_5[0][0]              \n",
      "__________________________________________________________________________________________________\n",
      "dense_14 (Dense)                (None, 30, 1)        11          dense_13[0][0]                   \n",
      "__________________________________________________________________________________________________\n",
      "activation_5 (Activation)       (None, 30, 1)        0           dense_14[0][0]                   \n",
      "__________________________________________________________________________________________________\n",
      "dot_5 (Dot)                     (None, 1, 64)        0           activation_5[0][0]               \n",
      "                                                                 bidirectional_1[0][0]            \n",
      "__________________________________________________________________________________________________\n",
      "lstm_6 (LSTM)                   [(None, 64), (None,  33024       dot_5[0][0]                      \n",
      "                                                                 lstm_5[0][0]                     \n",
      "                                                                 lstm_5[0][2]                     \n",
      "__________________________________________________________________________________________________\n",
      "repeat_vector_6 (RepeatVector)  (None, 30, 64)       0           lstm_6[0][0]                     \n",
      "__________________________________________________________________________________________________\n",
      "concatenate_6 (Concatenate)     (None, 30, 128)      0           bidirectional_1[0][0]            \n",
      "                                                                 repeat_vector_6[0][0]            \n",
      "__________________________________________________________________________________________________\n",
      "dense_16 (Dense)                (None, 30, 10)       1290        concatenate_6[0][0]              \n",
      "__________________________________________________________________________________________________\n",
      "dense_17 (Dense)                (None, 30, 1)        11          dense_16[0][0]                   \n",
      "__________________________________________________________________________________________________\n",
      "activation_6 (Activation)       (None, 30, 1)        0           dense_17[0][0]                   \n",
      "__________________________________________________________________________________________________\n",
      "dot_6 (Dot)                     (None, 1, 64)        0           activation_6[0][0]               \n",
      "                                                                 bidirectional_1[0][0]            \n",
      "__________________________________________________________________________________________________\n",
      "lstm_7 (LSTM)                   [(None, 64), (None,  33024       dot_6[0][0]                      \n",
      "                                                                 lstm_6[0][0]                     \n",
      "                                                                 lstm_6[0][2]                     \n",
      "__________________________________________________________________________________________________\n",
      "repeat_vector_7 (RepeatVector)  (None, 30, 64)       0           lstm_7[0][0]                     \n",
      "__________________________________________________________________________________________________\n",
      "concatenate_7 (Concatenate)     (None, 30, 128)      0           bidirectional_1[0][0]            \n",
      "                                                                 repeat_vector_7[0][0]            \n",
      "__________________________________________________________________________________________________\n",
      "dense_19 (Dense)                (None, 30, 10)       1290        concatenate_7[0][0]              \n",
      "__________________________________________________________________________________________________\n",
      "dense_20 (Dense)                (None, 30, 1)        11          dense_19[0][0]                   \n",
      "__________________________________________________________________________________________________\n",
      "activation_7 (Activation)       (None, 30, 1)        0           dense_20[0][0]                   \n",
      "__________________________________________________________________________________________________\n",
      "dot_7 (Dot)                     (None, 1, 64)        0           activation_7[0][0]               \n",
      "                                                                 bidirectional_1[0][0]            \n",
      "__________________________________________________________________________________________________\n",
      "lstm_8 (LSTM)                   [(None, 64), (None,  33024       dot_7[0][0]                      \n",
      "                                                                 lstm_7[0][0]                     \n",
      "                                                                 lstm_7[0][2]                     \n",
      "__________________________________________________________________________________________________\n",
      "repeat_vector_8 (RepeatVector)  (None, 30, 64)       0           lstm_8[0][0]                     \n",
      "__________________________________________________________________________________________________\n",
      "concatenate_8 (Concatenate)     (None, 30, 128)      0           bidirectional_1[0][0]            \n",
      "                                                                 repeat_vector_8[0][0]            \n",
      "__________________________________________________________________________________________________\n",
      "dense_22 (Dense)                (None, 30, 10)       1290        concatenate_8[0][0]              \n",
      "__________________________________________________________________________________________________\n",
      "dense_23 (Dense)                (None, 30, 1)        11          dense_22[0][0]                   \n",
      "__________________________________________________________________________________________________\n",
      "activation_8 (Activation)       (None, 30, 1)        0           dense_23[0][0]                   \n",
      "__________________________________________________________________________________________________\n",
      "dot_8 (Dot)                     (None, 1, 64)        0           activation_8[0][0]               \n",
      "                                                                 bidirectional_1[0][0]            \n",
      "__________________________________________________________________________________________________\n",
      "lstm_9 (LSTM)                   [(None, 64), (None,  33024       dot_8[0][0]                      \n",
      "                                                                 lstm_8[0][0]                     \n",
      "                                                                 lstm_8[0][2]                     \n",
      "__________________________________________________________________________________________________\n",
      "repeat_vector_9 (RepeatVector)  (None, 30, 64)       0           lstm_9[0][0]                     \n",
      "__________________________________________________________________________________________________\n",
      "concatenate_9 (Concatenate)     (None, 30, 128)      0           bidirectional_1[0][0]            \n",
      "                                                                 repeat_vector_9[0][0]            \n",
      "__________________________________________________________________________________________________\n",
      "dense_25 (Dense)                (None, 30, 10)       1290        concatenate_9[0][0]              \n",
      "__________________________________________________________________________________________________\n",
      "dense_26 (Dense)                (None, 30, 1)        11          dense_25[0][0]                   \n",
      "__________________________________________________________________________________________________\n",
      "activation_9 (Activation)       (None, 30, 1)        0           dense_26[0][0]                   \n",
      "__________________________________________________________________________________________________\n",
      "dot_9 (Dot)                     (None, 1, 64)        0           activation_9[0][0]               \n",
      "                                                                 bidirectional_1[0][0]            \n",
      "__________________________________________________________________________________________________\n",
      "lstm_10 (LSTM)                  [(None, 64), (None,  33024       dot_9[0][0]                      \n",
      "                                                                 lstm_9[0][0]                     \n",
      "                                                                 lstm_9[0][2]                     \n",
      "__________________________________________________________________________________________________\n",
      "repeat_vector_10 (RepeatVector) (None, 30, 64)       0           lstm_10[0][0]                    \n",
      "__________________________________________________________________________________________________\n",
      "concatenate_10 (Concatenate)    (None, 30, 128)      0           bidirectional_1[0][0]            \n",
      "                                                                 repeat_vector_10[0][0]           \n",
      "__________________________________________________________________________________________________\n",
      "dense_28 (Dense)                (None, 30, 10)       1290        concatenate_10[0][0]             \n",
      "__________________________________________________________________________________________________\n",
      "dense_29 (Dense)                (None, 30, 1)        11          dense_28[0][0]                   \n",
      "__________________________________________________________________________________________________\n",
      "activation_10 (Activation)      (None, 30, 1)        0           dense_29[0][0]                   \n",
      "__________________________________________________________________________________________________\n",
      "dot_10 (Dot)                    (None, 1, 64)        0           activation_10[0][0]              \n",
      "                                                                 bidirectional_1[0][0]            \n",
      "__________________________________________________________________________________________________\n",
      "lstm_11 (LSTM)                  [(None, 64), (None,  33024       dot_10[0][0]                     \n",
      "                                                                 lstm_10[0][0]                    \n",
      "                                                                 lstm_10[0][2]                    \n",
      "__________________________________________________________________________________________________\n",
      "repeat_vector_11 (RepeatVector) (None, 30, 64)       0           lstm_11[0][0]                    \n",
      "__________________________________________________________________________________________________\n",
      "concatenate_11 (Concatenate)    (None, 30, 128)      0           bidirectional_1[0][0]            \n",
      "                                                                 repeat_vector_11[0][0]           \n",
      "__________________________________________________________________________________________________\n",
      "dense_31 (Dense)                (None, 30, 10)       1290        concatenate_11[0][0]             \n",
      "__________________________________________________________________________________________________\n",
      "dense_32 (Dense)                (None, 30, 1)        11          dense_31[0][0]                   \n",
      "__________________________________________________________________________________________________\n",
      "activation_11 (Activation)      (None, 30, 1)        0           dense_32[0][0]                   \n",
      "__________________________________________________________________________________________________\n",
      "dot_11 (Dot)                    (None, 1, 64)        0           activation_11[0][0]              \n",
      "                                                                 bidirectional_1[0][0]            \n",
      "__________________________________________________________________________________________________\n",
      "lstm_12 (LSTM)                  [(None, 64), (None,  33024       dot_11[0][0]                     \n",
      "                                                                 lstm_11[0][0]                    \n",
      "                                                                 lstm_11[0][2]                    \n",
      "__________________________________________________________________________________________________\n",
      "dense_3 (Dense)                 (None, 12)           780         lstm_2[0][0]                     \n",
      "__________________________________________________________________________________________________\n",
      "dense_6 (Dense)                 (None, 12)           780         lstm_3[0][0]                     \n",
      "__________________________________________________________________________________________________\n",
      "dense_9 (Dense)                 (None, 12)           780         lstm_4[0][0]                     \n",
      "__________________________________________________________________________________________________\n",
      "dense_12 (Dense)                (None, 12)           780         lstm_5[0][0]                     \n",
      "__________________________________________________________________________________________________\n",
      "dense_15 (Dense)                (None, 12)           780         lstm_6[0][0]                     \n",
      "__________________________________________________________________________________________________\n",
      "dense_18 (Dense)                (None, 12)           780         lstm_7[0][0]                     \n",
      "__________________________________________________________________________________________________\n",
      "dense_21 (Dense)                (None, 12)           780         lstm_8[0][0]                     \n",
      "__________________________________________________________________________________________________\n",
      "dense_24 (Dense)                (None, 12)           780         lstm_9[0][0]                     \n",
      "__________________________________________________________________________________________________\n",
      "dense_27 (Dense)                (None, 12)           780         lstm_10[0][0]                    \n",
      "__________________________________________________________________________________________________\n",
      "dense_30 (Dense)                (None, 12)           780         lstm_11[0][0]                    \n",
      "__________________________________________________________________________________________________\n",
      "dense_33 (Dense)                (None, 12)           780         lstm_12[0][0]                    \n",
      "==================================================================================================\n",
      "Total params: 401,259\n",
      "Trainable params: 401,259\n",
      "Non-trainable params: 0\n",
      "__________________________________________________________________________________________________\n"
     ]
    }
   ],
   "source": [
    "model = modeling(xl, yl, 32, 64, len(hdict), len(mdict))\n",
    "model.summary()"
   ]
  },
  {
   "cell_type": "code",
   "execution_count": 13,
   "metadata": {},
   "outputs": [],
   "source": [
    "optimizer = RMSprop(lr=0.001, rho=0.9, epsilon=1e-08, decay=0.0)\n",
    "model.compile(optimizer=optimizer, loss='categorical_crossentropy', metrics=[\"accuracy\"])"
   ]
  },
  {
   "cell_type": "code",
   "execution_count": 14,
   "metadata": {},
   "outputs": [],
   "source": [
    "s0 = np.zeros((len(train_data), 64))\n",
    "c0 = np.zeros((len(train_data), 64))\n",
    "y = list(trainy.swapaxes(0, 1))"
   ]
  },
  {
   "cell_type": "code",
   "execution_count": 16,
   "metadata": {},
   "outputs": [
    {
     "name": "stdout",
     "output_type": "stream",
     "text": [
      "Epoch 1/20\n",
      "47500/47500 [==============================] - 24s 508us/step - loss: 7.8286 - dense_3_loss: 1.0192 - dense_6_loss: 2.2773 - dense_9_loss: 1.6908e-04 - dense_12_loss: 0.8118 - dense_15_loss: 1.0858 - dense_18_loss: 2.8395e-05 - dense_21_loss: 0.4225 - dense_24_loss: 1.1219 - dense_27_loss: 3.5774e-05 - dense_30_loss: 0.4704 - dense_33_loss: 0.6193 - dense_3_acc: 0.4668 - dense_6_acc: 0.1367 - dense_9_acc: 1.0000 - dense_12_acc: 0.6602 - dense_15_acc: 0.5991 - dense_18_acc: 1.0000 - dense_21_acc: 0.8072 - dense_24_acc: 0.5826 - dense_27_acc: 1.0000 - dense_30_acc: 0.8030 - dense_33_acc: 0.7730\n",
      "Epoch 2/20\n",
      "47500/47500 [==============================] - 24s 504us/step - loss: 7.4442 - dense_3_loss: 0.9890 - dense_6_loss: 2.2573 - dense_9_loss: 1.2434e-04 - dense_12_loss: 0.7400 - dense_15_loss: 1.0544 - dense_18_loss: 1.3929e-05 - dense_21_loss: 0.3542 - dense_24_loss: 1.0573 - dense_27_loss: 6.1010e-06 - dense_30_loss: 0.4153 - dense_33_loss: 0.5766 - dense_3_acc: 0.4938 - dense_6_acc: 0.1560 - dense_9_acc: 1.0000 - dense_12_acc: 0.7007 - dense_15_acc: 0.6155 - dense_18_acc: 1.0000 - dense_21_acc: 0.8411 - dense_24_acc: 0.6040 - dense_27_acc: 1.0000 - dense_30_acc: 0.8310 - dense_33_acc: 0.7909\n",
      "Epoch 3/20\n",
      "47500/47500 [==============================] - 24s 511us/step - loss: 6.8829 - dense_3_loss: 0.9164 - dense_6_loss: 2.1667 - dense_9_loss: 2.0019e-05 - dense_12_loss: 0.6530 - dense_15_loss: 1.0091 - dense_18_loss: 3.0664e-06 - dense_21_loss: 0.3241 - dense_24_loss: 0.9513 - dense_27_loss: 1.6768e-06 - dense_30_loss: 0.3561 - dense_33_loss: 0.5062 - dense_3_acc: 0.5507 - dense_6_acc: 0.1945 - dense_9_acc: 1.0000 - dense_12_acc: 0.7515 - dense_15_acc: 0.6349 - dense_18_acc: 1.0000 - dense_21_acc: 0.8607 - dense_24_acc: 0.6440 - dense_27_acc: 1.0000 - dense_30_acc: 0.8630 - dense_33_acc: 0.8207\n",
      "Epoch 4/20\n",
      "47500/47500 [==============================] - 24s 500us/step - loss: 5.8514 - dense_3_loss: 0.8109 - dense_6_loss: 1.9603 - dense_9_loss: 5.8471e-07 - dense_12_loss: 0.5039 - dense_15_loss: 0.8947 - dense_18_loss: 8.6929e-07 - dense_21_loss: 0.2781 - dense_24_loss: 0.8008 - dense_27_loss: 2.0110e-07 - dense_30_loss: 0.2653 - dense_33_loss: 0.3375 - dense_3_acc: 0.5959 - dense_6_acc: 0.2665 - dense_9_acc: 1.0000 - dense_12_acc: 0.8098 - dense_15_acc: 0.6783 - dense_18_acc: 1.0000 - dense_21_acc: 0.8747 - dense_24_acc: 0.7124 - dense_27_acc: 1.0000 - dense_30_acc: 0.8896 - dense_33_acc: 0.8739\n",
      "Epoch 5/20\n",
      "47500/47500 [==============================] - 25s 519us/step - loss: 4.8290 - dense_3_loss: 0.7235 - dense_6_loss: 1.6935 - dense_9_loss: 2.4246e-07 - dense_12_loss: 0.3851 - dense_15_loss: 0.7549 - dense_18_loss: 5.2338e-07 - dense_21_loss: 0.2458 - dense_24_loss: 0.6363 - dense_27_loss: 1.7292e-07 - dense_30_loss: 0.2230 - dense_33_loss: 0.1668 - dense_3_acc: 0.6464 - dense_6_acc: 0.3665 - dense_9_acc: 1.0000 - dense_12_acc: 0.8490 - dense_15_acc: 0.7196 - dense_18_acc: 1.0000 - dense_21_acc: 0.8924 - dense_24_acc: 0.7748 - dense_27_acc: 1.0000 - dense_30_acc: 0.9000 - dense_33_acc: 0.9429\n",
      "Epoch 6/20\n",
      "47500/47500 [==============================] - 25s 530us/step - loss: 3.7919 - dense_3_loss: 0.6520 - dense_6_loss: 1.2997 - dense_9_loss: 1.6211e-07 - dense_12_loss: 0.3148 - dense_15_loss: 0.6010 - dense_18_loss: 2.3432e-07 - dense_21_loss: 0.2148 - dense_24_loss: 0.4837 - dense_27_loss: 1.6254e-07 - dense_30_loss: 0.1470 - dense_33_loss: 0.0790 - dense_3_acc: 0.6935 - dense_6_acc: 0.4951 - dense_9_acc: 1.0000 - dense_12_acc: 0.8737 - dense_15_acc: 0.7761 - dense_18_acc: 1.0000 - dense_21_acc: 0.9102 - dense_24_acc: 0.8326 - dense_27_acc: 1.0000 - dense_30_acc: 0.9407 - dense_33_acc: 0.9756\n",
      "Epoch 7/20\n",
      "47500/47500 [==============================] - 24s 505us/step - loss: 2.6822 - dense_3_loss: 0.5740 - dense_6_loss: 0.8733 - dense_9_loss: 1.4188e-07 - dense_12_loss: 0.2337 - dense_15_loss: 0.3900 - dense_18_loss: 1.7556e-07 - dense_21_loss: 0.1815 - dense_24_loss: 0.3443 - dense_27_loss: 1.5681e-07 - dense_30_loss: 0.0473 - dense_33_loss: 0.0383 - dense_3_acc: 0.7491 - dense_6_acc: 0.6671 - dense_9_acc: 1.0000 - dense_12_acc: 0.9112 - dense_15_acc: 0.8626 - dense_18_acc: 1.0000 - dense_21_acc: 0.9291 - dense_24_acc: 0.8849 - dense_27_acc: 1.0000 - dense_30_acc: 0.9881 - dense_33_acc: 0.9920\n",
      "Epoch 8/20\n",
      "47500/47500 [==============================] - 24s 501us/step - loss: 1.7710 - dense_3_loss: 0.5006 - dense_6_loss: 0.5421 - dense_9_loss: 1.4360e-07 - dense_12_loss: 0.1250 - dense_15_loss: 0.2032 - dense_18_loss: 3.0587e-07 - dense_21_loss: 0.1451 - dense_24_loss: 0.2369 - dense_27_loss: 1.6879e-07 - dense_30_loss: 0.0080 - dense_33_loss: 0.0100 - dense_3_acc: 0.7818 - dense_6_acc: 0.8171 - dense_9_acc: 1.0000 - dense_12_acc: 0.9587 - dense_15_acc: 0.9348 - dense_18_acc: 1.0000 - dense_21_acc: 0.9450 - dense_24_acc: 0.9214 - dense_27_acc: 1.0000 - dense_30_acc: 0.9987 - dense_33_acc: 0.9987\n",
      "Epoch 9/20\n",
      "47500/47500 [==============================] - 24s 500us/step - loss: 1.2179 - dense_3_loss: 0.4370 - dense_6_loss: 0.3663 - dense_9_loss: 1.7323e-07 - dense_12_loss: 0.0508 - dense_15_loss: 0.0924 - dense_18_loss: 2.2813e-07 - dense_21_loss: 0.1159 - dense_24_loss: 0.1519 - dense_27_loss: 2.1952e-07 - dense_30_loss: 0.0012 - dense_33_loss: 0.0024 - dense_3_acc: 0.8093 - dense_6_acc: 0.8700 - dense_9_acc: 1.0000 - dense_12_acc: 0.9877 - dense_15_acc: 0.9744 - dense_18_acc: 1.0000 - dense_21_acc: 0.9578 - dense_24_acc: 0.9483 - dense_27_acc: 1.0000 - dense_30_acc: 0.9999 - dense_33_acc: 0.9995\n",
      "Epoch 10/20\n",
      "47500/47500 [==============================] - 24s 501us/step - loss: 0.8958 - dense_3_loss: 0.3623 - dense_6_loss: 0.2812 - dense_9_loss: 1.9081e-07 - dense_12_loss: 0.0175 - dense_15_loss: 0.0377 - dense_18_loss: 2.2728e-07 - dense_21_loss: 0.0945 - dense_24_loss: 0.1012 - dense_27_loss: 2.1315e-07 - dense_30_loss: 5.2669e-04 - dense_33_loss: 7.8511e-04 - dense_3_acc: 0.8444 - dense_6_acc: 0.8850 - dense_9_acc: 1.0000 - dense_12_acc: 0.9972 - dense_15_acc: 0.9923 - dense_18_acc: 1.0000 - dense_21_acc: 0.9653 - dense_24_acc: 0.9636 - dense_27_acc: 1.0000 - dense_30_acc: 0.9999 - dense_33_acc: 0.9999\n",
      "Epoch 11/20\n",
      "47500/47500 [==============================] - 24s 508us/step - loss: 0.7113 - dense_3_loss: 0.2971 - dense_6_loss: 0.2394 - dense_9_loss: 1.4457e-07 - dense_12_loss: 0.0058 - dense_15_loss: 0.0152 - dense_18_loss: 1.9335e-07 - dense_21_loss: 0.0789 - dense_24_loss: 0.0743 - dense_27_loss: 1.8512e-07 - dense_30_loss: 2.1027e-04 - dense_33_loss: 4.3990e-04 - dense_3_acc: 0.8730 - dense_6_acc: 0.8905 - dense_9_acc: 1.0000 - dense_12_acc: 0.9997 - dense_15_acc: 0.9976 - dense_18_acc: 1.0000 - dense_21_acc: 0.9696 - dense_24_acc: 0.9697 - dense_27_acc: 1.0000 - dense_30_acc: 1.0000 - dense_33_acc: 0.9999\n",
      "Epoch 12/20\n",
      "47500/47500 [==============================] - 24s 503us/step - loss: 0.6083 - dense_3_loss: 0.2508 - dense_6_loss: 0.2191 - dense_9_loss: 1.3597e-07 - dense_12_loss: 0.0025 - dense_15_loss: 0.0059 - dense_18_loss: 1.9437e-07 - dense_21_loss: 0.0676 - dense_24_loss: 0.0622 - dense_27_loss: 1.8424e-07 - dense_30_loss: 4.3371e-05 - dense_33_loss: 1.7538e-04 - dense_3_acc: 0.8886 - dense_6_acc: 0.8919 - dense_9_acc: 1.0000 - dense_12_acc: 0.9999 - dense_15_acc: 0.9995 - dense_18_acc: 1.0000 - dense_21_acc: 0.9718 - dense_24_acc: 0.9730 - dense_27_acc: 1.0000 - dense_30_acc: 1.0000 - dense_33_acc: 0.9999\n",
      "Epoch 13/20\n",
      "47500/47500 [==============================] - 24s 497us/step - loss: 0.5457 - dense_3_loss: 0.2219 - dense_6_loss: 0.2054 - dense_9_loss: 1.3295e-07 - dense_12_loss: 0.0013 - dense_15_loss: 0.0031 - dense_18_loss: 1.4796e-07 - dense_21_loss: 0.0592 - dense_24_loss: 0.0547 - dense_27_loss: 1.4639e-07 - dense_30_loss: 2.2791e-05 - dense_33_loss: 2.7559e-05 - dense_3_acc: 0.8930 - dense_6_acc: 0.8942 - dense_9_acc: 1.0000 - dense_12_acc: 0.9999 - dense_15_acc: 0.9998 - dense_18_acc: 1.0000 - dense_21_acc: 0.9730 - dense_24_acc: 0.9744 - dense_27_acc: 1.0000 - dense_30_acc: 1.0000 - dense_33_acc: 1.0000\n",
      "Epoch 14/20\n",
      "47500/47500 [==============================] - 24s 498us/step - loss: 0.5112 - dense_3_loss: 0.2067 - dense_6_loss: 0.1995 - dense_9_loss: 1.3633e-07 - dense_12_loss: 7.0222e-04 - dense_15_loss: 0.0020 - dense_18_loss: 1.6273e-07 - dense_21_loss: 0.0532 - dense_24_loss: 0.0491 - dense_27_loss: 1.3297e-07 - dense_30_loss: 9.0112e-06 - dense_33_loss: 3.4639e-05 - dense_3_acc: 0.8937 - dense_6_acc: 0.8925 - dense_9_acc: 1.0000 - dense_12_acc: 1.0000 - dense_15_acc: 0.9998 - dense_18_acc: 1.0000 - dense_21_acc: 0.9747 - dense_24_acc: 0.9757 - dense_27_acc: 1.0000 - dense_30_acc: 1.0000 - dense_33_acc: 1.0000\n",
      "Epoch 15/20\n",
      "47500/47500 [==============================] - 23s 494us/step - loss: 0.4868 - dense_3_loss: 0.1965 - dense_6_loss: 0.1930 - dense_9_loss: 1.4443e-07 - dense_12_loss: 8.9197e-04 - dense_15_loss: 0.0014 - dense_18_loss: 1.5226e-07 - dense_21_loss: 0.0488 - dense_24_loss: 0.0457 - dense_27_loss: 1.2592e-07 - dense_30_loss: 1.6353e-04 - dense_33_loss: 3.1941e-04 - dense_3_acc: 0.8966 - dense_6_acc: 0.8960 - dense_9_acc: 1.0000 - dense_12_acc: 0.9998 - dense_15_acc: 0.9999 - dense_18_acc: 1.0000 - dense_21_acc: 0.9761 - dense_24_acc: 0.9773 - dense_27_acc: 1.0000 - dense_30_acc: 1.0000 - dense_33_acc: 0.9999\n",
      "Epoch 16/20\n",
      "47500/47500 [==============================] - 23s 493us/step - loss: 0.4695 - dense_3_loss: 0.1910 - dense_6_loss: 0.1894 - dense_9_loss: 1.3939e-07 - dense_12_loss: 3.5807e-04 - dense_15_loss: 8.4319e-04 - dense_18_loss: 1.6877e-07 - dense_21_loss: 0.0448 - dense_24_loss: 0.0430 - dense_27_loss: 1.2556e-07 - dense_30_loss: 1.0625e-04 - dense_33_loss: 4.0995e-05 - dense_3_acc: 0.8976 - dense_6_acc: 0.8965 - dense_9_acc: 1.0000 - dense_12_acc: 1.0000 - dense_15_acc: 1.0000 - dense_18_acc: 1.0000 - dense_21_acc: 0.9769 - dense_24_acc: 0.9779 - dense_27_acc: 1.0000 - dense_30_acc: 1.0000 - dense_33_acc: 1.0000\n",
      "Epoch 17/20\n",
      "47500/47500 [==============================] - 23s 494us/step - loss: 0.4600 - dense_3_loss: 0.1887 - dense_6_loss: 0.1867 - dense_9_loss: 1.3418e-07 - dense_12_loss: 2.8877e-04 - dense_15_loss: 6.3346e-04 - dense_18_loss: 1.4995e-07 - dense_21_loss: 0.0425 - dense_24_loss: 0.0407 - dense_27_loss: 1.2994e-07 - dense_30_loss: 4.5824e-04 - dense_33_loss: 6.9365e-06 - dense_3_acc: 0.8983 - dense_6_acc: 0.8969 - dense_9_acc: 1.0000 - dense_12_acc: 1.0000 - dense_15_acc: 1.0000 - dense_18_acc: 1.0000 - dense_21_acc: 0.9784 - dense_24_acc: 0.9788 - dense_27_acc: 1.0000 - dense_30_acc: 0.9999 - dense_33_acc: 1.0000\n",
      "Epoch 18/20\n",
      "47500/47500 [==============================] - 24s 498us/step - loss: 0.4494 - dense_3_loss: 0.1855 - dense_6_loss: 0.1843 - dense_9_loss: 1.3803e-07 - dense_12_loss: 2.1300e-04 - dense_15_loss: 5.1678e-04 - dense_18_loss: 1.4118e-07 - dense_21_loss: 0.0402 - dense_24_loss: 0.0385 - dense_27_loss: 1.2789e-07 - dense_30_loss: 2.6847e-06 - dense_33_loss: 1.2863e-04 - dense_3_acc: 0.8990 - dense_6_acc: 0.8989 - dense_9_acc: 1.0000 - dense_12_acc: 1.0000 - dense_15_acc: 1.0000 - dense_18_acc: 1.0000 - dense_21_acc: 0.9786 - dense_24_acc: 0.9801 - dense_27_acc: 1.0000 - dense_30_acc: 1.0000 - dense_33_acc: 1.0000\n",
      "Epoch 19/20\n",
      "47500/47500 [==============================] - 23s 489us/step - loss: 0.4459 - dense_3_loss: 0.1844 - dense_6_loss: 0.1840 - dense_9_loss: 1.3123e-07 - dense_12_loss: 2.7762e-04 - dense_15_loss: 4.0099e-04 - dense_18_loss: 1.4226e-07 - dense_21_loss: 0.0389 - dense_24_loss: 0.0374 - dense_27_loss: 1.2150e-07 - dense_30_loss: 1.9908e-04 - dense_33_loss: 3.1202e-04 - dense_3_acc: 0.8985 - dense_6_acc: 0.8978 - dense_9_acc: 1.0000 - dense_12_acc: 0.9999 - dense_15_acc: 1.0000 - dense_18_acc: 1.0000 - dense_21_acc: 0.9796 - dense_24_acc: 0.9804 - dense_27_acc: 1.0000 - dense_30_acc: 0.9999 - dense_33_acc: 1.0000\n",
      "Epoch 20/20\n",
      "47500/47500 [==============================] - 23s 484us/step - loss: 0.4392 - dense_3_loss: 0.1824 - dense_6_loss: 0.1825 - dense_9_loss: 1.3173e-07 - dense_12_loss: 1.5927e-04 - dense_15_loss: 3.8091e-04 - dense_18_loss: 1.4251e-07 - dense_21_loss: 0.0376 - dense_24_loss: 0.0361 - dense_27_loss: 1.2173e-07 - dense_30_loss: 6.2636e-05 - dense_33_loss: 1.9983e-06 - dense_3_acc: 0.9001 - dense_6_acc: 0.8982 - dense_9_acc: 1.0000 - dense_12_acc: 1.0000 - dense_15_acc: 1.0000 - dense_18_acc: 1.0000 - dense_21_acc: 0.9809 - dense_24_acc: 0.9820 - dense_27_acc: 1.0000 - dense_30_acc: 1.0000 - dense_33_acc: 1.0000\n"
     ]
    },
    {
     "data": {
      "text/plain": [
       "<keras.callbacks.History at 0x1e7929478c8>"
      ]
     },
     "execution_count": 16,
     "metadata": {},
     "output_type": "execute_result"
    }
   ],
   "source": [
    "model.fit([trainX, s0, c0], y, epochs=20, batch_size=256)"
   ]
  },
  {
   "cell_type": "code",
   "execution_count": 17,
   "metadata": {},
   "outputs": [],
   "source": [
    "s1 = np.zeros((len(test_data), 64))\n",
    "c1 = np.zeros((len(test_data), 64))"
   ]
  },
  {
   "cell_type": "code",
   "execution_count": 18,
   "metadata": {},
   "outputs": [
    {
     "name": "stdout",
     "output_type": "stream",
     "text": [
      "2500/2500 [==============================] - 5s 2ms/step\n"
     ]
    }
   ],
   "source": [
    "valy = list(testy.swapaxes(0, 1))\n",
    "preds = model.evaluate([testX, s1, c1], valy)"
   ]
  },
  {
   "cell_type": "code",
   "execution_count": 19,
   "metadata": {},
   "outputs": [
    {
     "name": "stdout",
     "output_type": "stream",
     "text": [
      "[0.4785049032211304, 0.18562023956775664, 0.19876998839378357, 1.3291839134126347e-07, 0.00038066453519277276, 0.00029898052734788505, 1.5695148579197848e-07, 0.04456747570242735, 0.04886669226377708, 1.1940003935251296e-07, 2.003913172529792e-07, 2.537977285328452e-07, 0.896, 0.8808, 1.0, 1.0, 1.0, 1.0, 0.972, 0.9736, 1.0, 1.0, 1.0]\n"
     ]
    }
   ],
   "source": [
    "print(preds)"
   ]
  },
  {
   "cell_type": "code",
   "execution_count": 20,
   "metadata": {},
   "outputs": [],
   "source": [
    "def getTime(s, model):\n",
    "    x = np.array([prehum(s)])\n",
    "    s = np.zeros((1, 64))\n",
    "    c = np.zeros((1, 64))\n",
    "    d = model.predict([x, s, c])\n",
    "    ans = \"\"\n",
    "    for w in d:\n",
    "        ans += inv_mdict[int(np.argmax(w, axis=1))]\n",
    "    return ans"
   ]
  },
  {
   "cell_type": "code",
   "execution_count": 21,
   "metadata": {},
   "outputs": [],
   "source": [
    "model.save_weights(\"time_model.h5\")"
   ]
  },
  {
   "cell_type": "code",
   "execution_count": 23,
   "metadata": {},
   "outputs": [
    {
     "name": "stdout",
     "output_type": "stream",
     "text": [
      "19:00-20:00\n"
     ]
    }
   ],
   "source": [
    "print(getTime('7-8pm', model))"
   ]
  },
  {
   "cell_type": "code",
   "execution_count": 24,
   "metadata": {},
   "outputs": [],
   "source": [
    "with open(\"time_h_dict.txt\", \"w\", encoding='utf-8') as outputfile:\n",
    "    for k, c in hdict.items():\n",
    "        outputfile.write(k + '\\t' + str(c) +'\\n')\n",
    "\n",
    "with open(\"time_m_dict.txt\", \"w\", encoding='utf-8') as outputfile:\n",
    "    for k, c in mdict.items():\n",
    "        outputfile.write(k + '\\t' + str(c) + '\\n')"
   ]
  }
 ],
 "metadata": {
  "kernelspec": {
   "display_name": "Python 3",
   "language": "python",
   "name": "python3"
  },
  "language_info": {
   "codemirror_mode": {
    "name": "ipython",
    "version": 3
   },
   "file_extension": ".py",
   "mimetype": "text/x-python",
   "name": "python",
   "nbconvert_exporter": "python",
   "pygments_lexer": "ipython3",
   "version": "3.7.5"
  }
 },
 "nbformat": 4,
 "nbformat_minor": 2
}
