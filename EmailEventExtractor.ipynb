{
 "cells": [
  {
   "cell_type": "code",
   "execution_count": 1,
   "metadata": {},
   "outputs": [],
   "source": [
    "import random\n",
    "import train_model\n",
    "import spacy\n",
    "import numpy as np\n",
    "from pathlib import Path\n",
    "import nltk"
   ]
  },
  {
   "cell_type": "code",
   "execution_count": 2,
   "metadata": {},
   "outputs": [
    {
     "name": "stderr",
     "output_type": "stream",
     "text": [
      "Using TensorFlow backend.\n"
     ]
    }
   ],
   "source": [
    "from keras.layers import Bidirectional, Concatenate, LSTM, Dot, Input, Multiply\n",
    "from keras.layers import RepeatVector, Dense, Activation\n",
    "from keras.optimizers import RMSprop\n",
    "from keras.utils import to_categorical\n",
    "from keras.models import Model\n",
    "import keras.backend as K"
   ]
  },
  {
   "cell_type": "markdown",
   "metadata": {},
   "source": [
    "Create date translator model"
   ]
  },
  {
   "cell_type": "code",
   "execution_count": 3,
   "metadata": {},
   "outputs": [],
   "source": [
    "def load_human_machine_dict(h_dict_path, m_dict_path):\n",
    "    hdict = dict()\n",
    "    mdict = dict()\n",
    "    with open(h_dict_path, \"r\", encoding='utf-8') as inputfile:\n",
    "        for row in inputfile:\n",
    "            row = row[:-1]\n",
    "            kc = row.split('\\t')\n",
    "            hdict[kc[0]] = int(kc[1])\n",
    "\n",
    "    with open(m_dict_path, \"r\", encoding='utf-8') as inputfile:\n",
    "        for row in inputfile:\n",
    "            row = row[:-1]\n",
    "            kc = row.split('\\t')\n",
    "            mdict[kc[0]] = int(kc[1])\n",
    "\n",
    "    inv_mdict = {c:k for k, c in mdict.items()}\n",
    "    return hdict, inv_mdict"
   ]
  },
  {
   "cell_type": "code",
   "execution_count": 4,
   "metadata": {},
   "outputs": [],
   "source": [
    "def preprocess(x, hdict):\n",
    "    x = x.lower().replace(',', '')\n",
    "    xnum = [hdict[c] if c in hdict else hdict['<unk>'] for c in x]\n",
    "    while len(xnum) < 30:\n",
    "        xnum.append(0)\n",
    "    onehot = [to_categorical(i, num_classes=len(hdict)) for i in xnum]\n",
    "    return onehot"
   ]
  },
  {
   "cell_type": "code",
   "execution_count": 5,
   "metadata": {},
   "outputs": [],
   "source": [
    "def softmax(x, axis=1):\n",
    "    dim = K.ndim(x)\n",
    "    if dim == 2:\n",
    "        return K.softmax(x)\n",
    "    elif dim > 2:\n",
    "        e = K.exp(x - K.max(x, axis=axis, keepdims=True))\n",
    "        s = K.sum(e, axis=axis, keepdims=True)\n",
    "        return e / s\n",
    "    else:\n",
    "        raise ValueError('Cannot apply softmax to a tensor that is 1D')"
   ]
  },
  {
   "cell_type": "code",
   "execution_count": 6,
   "metadata": {},
   "outputs": [],
   "source": [
    "def attention(a, s_prev):\n",
    "    s_prev = RepeatVector(30)(s_prev)\n",
    "    concat = Concatenate(axis=-1)([a, s_prev])\n",
    "    d1 = Dense(10, activation=\"tanh\")(concat)\n",
    "    d2 = Dense(1, activation=\"relu\")(d1)\n",
    "    alphas = Activation(softmax)(d2)\n",
    "    return Dot(axes=1)([alphas, a])"
   ]
  },
  {
   "cell_type": "code",
   "execution_count": 7,
   "metadata": {},
   "outputs": [],
   "source": [
    "def modeling(xl, yl, n_a, n_s, hvocab_size, mvocab_size):\n",
    "    X = Input(shape=(xl, hvocab_size))\n",
    "    s0 = Input(shape=(n_s,))\n",
    "    c0 = Input(shape=(n_s,))\n",
    "    s = s0\n",
    "    c = c0\n",
    "    outputs = []\n",
    "    a=Bidirectional(LSTM(units=n_a, return_sequences=True))(X)\n",
    "    for i in range(0, yl):\n",
    "        context = attention(a, s)\n",
    "        s, _, c = LSTM(n_s, return_state=True)(inputs=context, initial_state=[s,c])\n",
    "        out = Dense(mvocab_size, activation=softmax)(s)\n",
    "        outputs.append(out)\n",
    "    return Model(inputs=(X, s0, c0), outputs=outputs)"
   ]
  },
  {
   "cell_type": "code",
   "execution_count": 8,
   "metadata": {},
   "outputs": [],
   "source": [
    "def load_date_translator(hvocab_size, mvocab_size):\n",
    "    themodel = modeling(30, 10, 32, 64, hvocab_size, mvocab_size)\n",
    "    themodel.load_weights(\"date_model.h5\")\n",
    "    return themodel"
   ]
  },
  {
   "cell_type": "code",
   "execution_count": 9,
   "metadata": {},
   "outputs": [],
   "source": [
    "def load_time_translator(hvocab_size, mvocab_size):\n",
    "    themodel = modeling(30, 11, 32, 64, hvocab_size, mvocab_size)\n",
    "    themodel.load_weights(\"time_model.h5\")\n",
    "    return themodel"
   ]
  },
  {
   "cell_type": "markdown",
   "metadata": {},
   "source": [
    "Create the model and load the pre-trained model weights"
   ]
  },
  {
   "cell_type": "code",
   "execution_count": 10,
   "metadata": {},
   "outputs": [],
   "source": [
    "# load the date model\n",
    "d_hdict, d_inv_mdict = load_human_machine_dict(\"h_dict.txt\", \"m_dict.txt\")\n",
    "date_model = load_date_translator(len(d_hdict), len(d_inv_mdict))"
   ]
  },
  {
   "cell_type": "code",
   "execution_count": 11,
   "metadata": {},
   "outputs": [],
   "source": [
    "# load the time model\n",
    "t_hdict, t_inv_mdict = load_human_machine_dict(\"time_h_dict.txt\", \"time_m_dict.txt\")\n",
    "time_model = load_time_translator(len(t_hdict), len(t_inv_mdict))"
   ]
  },
  {
   "cell_type": "code",
   "execution_count": 12,
   "metadata": {},
   "outputs": [],
   "source": [
    "def getDate(s, hdict, inv_mdict, model):\n",
    "    x = np.array([preprocess(s, hdict)])\n",
    "    s = np.zeros((1, 64))\n",
    "    c = np.zeros((1, 64))\n",
    "    d = model.predict([x, s, c])\n",
    "    ans = \"\"\n",
    "    for w in d:\n",
    "        ans += inv_mdict[int(np.argmax(w, axis=1))]\n",
    "    return ans"
   ]
  },
  {
   "cell_type": "code",
   "execution_count": 13,
   "metadata": {},
   "outputs": [
    {
     "data": {
      "text/plain": [
       "'0000-12-07'"
      ]
     },
     "execution_count": 13,
     "metadata": {},
     "output_type": "execute_result"
    }
   ],
   "source": [
    "getDate('dec 7', d_hdict, d_inv_mdict, date_model)"
   ]
  },
  {
   "cell_type": "code",
   "execution_count": 14,
   "metadata": {},
   "outputs": [],
   "source": [
    "def getTime(s, hdict, inv_mdict, model):\n",
    "    x = np.array([preprocess(s, hdict)])\n",
    "    s = np.zeros((1, 64))\n",
    "    c = np.zeros((1, 64))\n",
    "    d = model.predict([x, s, c])\n",
    "    ans = \"\"\n",
    "    for w in d:\n",
    "        ans += inv_mdict[int(np.argmax(w, axis=1))]\n",
    "    return ans"
   ]
  },
  {
   "cell_type": "code",
   "execution_count": 15,
   "metadata": {},
   "outputs": [
    {
     "data": {
      "text/plain": [
       "'08:00-09:00'"
      ]
     },
     "execution_count": 15,
     "metadata": {},
     "output_type": "execute_result"
    }
   ],
   "source": [
    "getTime('8-9am', t_hdict, t_inv_mdict, time_model)"
   ]
  },
  {
   "cell_type": "code",
   "execution_count": 16,
   "metadata": {},
   "outputs": [],
   "source": [
    "# for demonstration setting below\n",
    "def getdate(s):\n",
    "    date = getDate(s, d_hdict, d_inv_mdict, date_model)\n",
    "    if date[:4] == '0000':\n",
    "        return date[5:]\n",
    "    return date\n",
    "\n",
    "def gettime(s):\n",
    "    time = getTime(s, t_hdict, t_inv_mdict, time_model)\n",
    "    if time[6:] == '99:99':\n",
    "        return time[:5]\n",
    "    return time"
   ]
  },
  {
   "cell_type": "markdown",
   "metadata": {},
   "source": [
    "Load Named-Entity recognition model"
   ]
  },
  {
   "cell_type": "code",
   "execution_count": 74,
   "metadata": {},
   "outputs": [],
   "source": [
    "sm_model = \"ner_model_sm\"\n",
    "lg_model = \"ner_model\"\n",
    "model_path = sm_model"
   ]
  },
  {
   "cell_type": "code",
   "execution_count": 75,
   "metadata": {},
   "outputs": [],
   "source": [
    "def loadTrainedNERModel():\n",
    "    path = Path(model_path)\n",
    "    if path.exists():\n",
    "        nlp = spacy.load(path)\n",
    "    else:\n",
    "        train_model.train_model(100)\n",
    "        nlp = spacy.load(path)\n",
    "    return nlp"
   ]
  },
  {
   "cell_type": "code",
   "execution_count": 76,
   "metadata": {},
   "outputs": [],
   "source": [
    "def ner_model_on_test_set(nlp):\n",
    "    test_data = []\n",
    "    with open(\"test.txt\", \"r\", encoding='utf-8') as inputfile:\n",
    "        for line in inputfile:\n",
    "            test_data.append(line[:-1])\n",
    "    for text in test_data:\n",
    "        doc = nlp(text)\n",
    "        print(text)\n",
    "        print(\"Entities\", [(ent.text, ent.label_) for ent in doc.ents])\n",
    "        # print(\"Tokens\", [(t.text, t.ent_type_, t.ent_iob) for t in doc])"
   ]
  },
  {
   "cell_type": "code",
   "execution_count": 77,
   "metadata": {},
   "outputs": [],
   "source": [
    "nlp = loadTrainedNERModel()"
   ]
  },
  {
   "cell_type": "code",
   "execution_count": 78,
   "metadata": {},
   "outputs": [],
   "source": [
    "text = \"Hello, we will have a final exam next week on Dec 12 in CENTER 101 I am bringing a kid to the final exam so you might hear some nonsense\"\n",
    "doc = nlp(text)"
   ]
  },
  {
   "cell_type": "code",
   "execution_count": 79,
   "metadata": {},
   "outputs": [
    {
     "name": "stdout",
     "output_type": "stream",
     "text": [
      "final exam next week EVENT\n",
      "Dec 12 DATE\n",
      "CENTER 101 LOCATION\n",
      "final exam EVENT\n"
     ]
    }
   ],
   "source": [
    "for tk in doc.ents:\n",
    "    print(tk.text, tk.label_)"
   ]
  },
  {
   "cell_type": "code",
   "execution_count": 80,
   "metadata": {},
   "outputs": [],
   "source": [
    "def hasNum(s):\n",
    "    return any(c.isdigit() for c in s)"
   ]
  },
  {
   "cell_type": "code",
   "execution_count": 81,
   "metadata": {},
   "outputs": [],
   "source": [
    "def getInfo(text):\n",
    "    doc = nlp(text)\n",
    "    entities = [(ent, ent.label_) for ent in doc.ents]\n",
    "    events = []\n",
    "    s_dates = []\n",
    "    u_dates = []\n",
    "    times = []\n",
    "    locations = []\n",
    "    for enti in entities:\n",
    "        if enti[1] == 'EVENT':\n",
    "            events.append(enti)\n",
    "        elif enti[1] == 'DATE':\n",
    "            if hasNum(enti[0].text):\n",
    "                s_dates.append(enti)\n",
    "            else:\n",
    "                u_dates.append(enti)\n",
    "        elif enti[1] == 'TIME':\n",
    "            times.append(enti)\n",
    "        else:\n",
    "            locations.append(enti)\n",
    "    \n",
    "    if len(events) == 0:\n",
    "        poff = 0\n",
    "        event = None\n",
    "    else:\n",
    "        # set the first one as primary event, find date, time and location that is closest to the primary event\n",
    "        pevt = events[0][0]\n",
    "        poff = pevt.start\n",
    "        event = pevt.text\n",
    "    \n",
    "    # find date, first look for closest exact date(specified day and month). If not found, find the closest one and return.\n",
    "    # possible words, today, tomorrow, Monday, Tuesday.... this week, next week which are hard to specified\n",
    "    date = None\n",
    "    if len(s_dates) != 0:\n",
    "        closest = 10000\n",
    "        for d in s_dates:\n",
    "            ds = d[0].start\n",
    "            if abs(ds - poff) < closest:\n",
    "                closest = abs(ds - poff)\n",
    "                date = getdate(d[0].text)\n",
    "    elif len(u_dates) != 0:\n",
    "        closest = 10000\n",
    "        for d in u_dates:\n",
    "            ds = d[0].start\n",
    "            if abs(ds - poff) < closest:\n",
    "                closest = abs(ds - poff)\n",
    "                date = d[0].text\n",
    "    \n",
    "    # find time, just look for the closest time\n",
    "    time = None\n",
    "    if len(times) != 0:\n",
    "        closest = 100000\n",
    "        for d in times:\n",
    "            ds = d[0].start\n",
    "            if abs(ds - poff) < closest:\n",
    "                closest = abs(ds - poff)\n",
    "                time = gettime(d[0].text)\n",
    "    \n",
    "    # find location, look for the closest location\n",
    "    loc = None\n",
    "    if len(locations) != 0:\n",
    "        closest = 100000\n",
    "        for d in locations:\n",
    "            ds = d[0].start\n",
    "            if abs(ds - poff) < closest:\n",
    "                closest = abs(ds - poff)\n",
    "                loc = d[0].text\n",
    "    return {'Event':event, 'Date':date, 'Time':time, 'Location':loc}, entities"
   ]
  },
  {
   "cell_type": "code",
   "execution_count": 82,
   "metadata": {},
   "outputs": [],
   "source": [
    "text0 = \"We will have a review session for exam 2 this Wednesday, October 30th from 7-8pm in SOLIS 104.\"\n",
    "text1 = \"INFO SESSION October 21, 2019 5:30 - 7:30 pm Qualcomm Conference Center Description:What do we do? COME FIND OUT! Network with the engineers after a Q+A panel. \"\n",
    "text2 = \"The William Lowell Putnam Competition (http://math.scu.edu/putnam/index.html) is a college level mathematics competition that will take place over the course of two three-hour segments on Saturday December 1st. The questions are proof based and generally fairly difficult. While finding solutions often requires ingenuity and critical thinking, they rarely require knowledge of mathematics beyond calculus or perhaps differential equations (though knowing more advanced topics can be useful at times).\"\n",
    "text3 = \"Hi all, we will meet for a practice competition and team formation meeting this Saturday at 11am in B230. We will spend a little time forming teams, then do a mini-competition with those teams, and then discuss the problems briefly. I'll bring some breakfast stuff – donuts/coffee/bagels. Everyone is welcome to participate! Don't feel like you can't or shouldn't come based on missing a meeting or your performance in the team selection competition a few days ago.\"\n",
    "text4 = \"Due to midterms, a number of people have requested PA2 extension. We have extended the due date by 2 days to October 30th. Please note that we cannot go beyond this as we need to keep the course on track.\"\n",
    "textfav = \"You're receiving this email because you registered for the Fall 2018 Beginner's Programming Competition. The Winter 2019 Beginner's Programming Competition, sponsored by Microsoft and Associated Students UCSD, will be held Saturday, March 9th, from 3pm-7:30pm. We'll have some really cool prizes from Microsoft for the winners. Winners will also get to submit their resumes to Microsoft for consideration for Summer 2020 internships!\"\n",
    "textfail = \"On Sunday, September 23rd, Associated Student Concerts and Events will be hosting their annual Fall Y’all Festival for our undergraduate students at RIMAC Field. Due to the construction of event infrastructure and additional security measures, Hopkins Drive will be closed from 7 PM through 11:59 PM on the evening of the 23rd.  During that time, Hopkins Drive will be closed to all vehicle, bike, and pedestrian traffic between Northpoint Drive after the North Information Booth through to the RIMAC arena loading dock.\"\n",
    "text5 = \"Hello Tritons, If you are interested in becoming an actuary (or want to know more about the profession), come to the first Triton Actuarial Society (TAS) meeting of the school year! It will be taking place from 8:00 p.m. - 9:00 p.m. in AP&M 6402 on Monday, October 8, 2018. At the meeting you will get the opportunity to meet the members and learn what the pre-professional organization has in store for you this year. After the meeting, we'll head over to Convoy for some boba. It'll be a great way for you to mingle with one another, so you won't want to miss it! For more information, please join the facebook group: facebook.com/groups/tas.ucsd/ Hope to see you there!\"\n"
   ]
  },
  {
   "cell_type": "code",
   "execution_count": 84,
   "metadata": {},
   "outputs": [
    {
     "name": "stdout",
     "output_type": "stream",
     "text": [
      "You're receiving this email because you registered for the Fall 2018 Beginner's Programming Competition. The Winter 2019 Beginner's Programming Competition, sponsored by Microsoft and Associated Students UCSD, will be held Saturday, March 9th, from 3pm-7:30pm. We'll have some really cool prizes from Microsoft for the winners. Winners will also get to submit their resumes to Microsoft for consideration for Summer 2020 internships!\n",
      "\n",
      "Event: Fall 2018 Beginner's Programming Competition\n",
      "Date: Saturday\n",
      "Time: 15:26-19:30\n",
      "Location: None\n"
     ]
    }
   ],
   "source": [
    "text = textfav\n",
    "\n",
    "infos, entity = getInfo(text)\n",
    "print(text)\n",
    "print(\"\")\n",
    "for k, c in infos.items():\n",
    "    if c == None:\n",
    "        print(k+': None')\n",
    "    else:\n",
    "        print(k+': '+c)"
   ]
  },
  {
   "cell_type": "code",
   "execution_count": null,
   "metadata": {},
   "outputs": [],
   "source": []
  }
 ],
 "metadata": {
  "kernelspec": {
   "display_name": "Python 3",
   "language": "python",
   "name": "python3"
  },
  "language_info": {
   "codemirror_mode": {
    "name": "ipython",
    "version": 3
   },
   "file_extension": ".py",
   "mimetype": "text/x-python",
   "name": "python",
   "nbconvert_exporter": "python",
   "pygments_lexer": "ipython3",
   "version": "3.7.5"
  }
 },
 "nbformat": 4,
 "nbformat_minor": 2
}
