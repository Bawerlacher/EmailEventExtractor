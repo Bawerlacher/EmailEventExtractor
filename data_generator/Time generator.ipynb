{
 "cells": [
  {
   "cell_type": "code",
   "execution_count": 2,
   "metadata": {},
   "outputs": [],
   "source": [
    "from faker import Faker\n",
    "from babel.dates import format_time\n",
    "import random"
   ]
  },
  {
   "cell_type": "code",
   "execution_count": 3,
   "metadata": {},
   "outputs": [],
   "source": [
    "fake = Faker()"
   ]
  },
  {
   "cell_type": "code",
   "execution_count": 4,
   "metadata": {},
   "outputs": [
    {
     "name": "stdout",
     "output_type": "stream",
     "text": [
      "23:10:49\n"
     ]
    }
   ],
   "source": [
    "print(fake.time_object())"
   ]
  },
  {
   "cell_type": "code",
   "execution_count": 5,
   "metadata": {},
   "outputs": [],
   "source": [
    "format1 = ['h', 'h a', 'ha', 'h:mm', 'h:mm a', 'h:mma', 'H', 'H:mm', \"h 'o''clock' a\", \"h 'o''clock'\"]\n",
    "format2 = [('h a', 'h a'), ('ha', 'ha'), ('h', 'ha'), ('h', 'h a'), ('h:mm', 'h:mm a'), ('h:mm a', 'h:mm a'), \n",
    "           ('h:mma', 'h:mma'), ('h:mm', 'h:mma'), ('h:mm', 'h:mm'), ('H', 'H'), ('H:mm', 'H:mm')]"
   ]
  },
  {
   "cell_type": "code",
   "execution_count": 6,
   "metadata": {},
   "outputs": [],
   "source": [
    "linkword = [' to ', ' to ', '-', ' - ', '-', ' and ']"
   ]
  },
  {
   "cell_type": "code",
   "execution_count": 7,
   "metadata": {},
   "outputs": [],
   "source": [
    "def getHM(s):\n",
    "    return str(s)[:5]"
   ]
  },
  {
   "cell_type": "code",
   "execution_count": 8,
   "metadata": {},
   "outputs": [],
   "source": [
    "def getH(s):\n",
    "    return str(s)[:2] + ':00'"
   ]
  },
  {
   "cell_type": "code",
   "execution_count": 13,
   "metadata": {},
   "outputs": [],
   "source": [
    "hum = []\n",
    "mac = []\n",
    "for i in range(50000):\n",
    "    r = random.choice([1, 2])\n",
    "    if r == 1:\n",
    "        t = fake.time_object()\n",
    "        f = random.choice(format1)\n",
    "        h = format_time(t, f, locale='en_US')\n",
    "        if 'mm' in f:\n",
    "            m = getHM(t.isoformat())\n",
    "        else:\n",
    "            m = getH(t.isoformat())\n",
    "        hum.append(h)\n",
    "        mac.append(m+'-'+'99:99')\n",
    "    else:\n",
    "        mode = random.choice(format2)\n",
    "        lw = random.choice(linkword)\n",
    "        h = \"\"\n",
    "        m = \"\"\n",
    "        if 'a' in mode[1] and 'a' not in mode[0]:\n",
    "            t1 = fake.time_object()\n",
    "            t2 = fake.time_object()\n",
    "            hr = getH(t1.isoformat())\n",
    "            if int(hr[:2]) < 12:\n",
    "                while int(getH(t2.isoformat())[:2]) >= 12:\n",
    "                    t2 = fake.time_object()\n",
    "            else:\n",
    "                while int(getH(t2.isoformat())[:2]) < 12:\n",
    "                    t2 = fake.time_object()\n",
    "        else:\n",
    "            t1 = fake.time_object()\n",
    "            t2 = fake.time_object()\n",
    "        h = format_time(t1, mode[0], locale='en_US') + lw + format_time(t2, mode[1], locale='en_US')\n",
    "        m = (getHM(t1.isoformat()) if 'mm' in mode[0] else getH(t1.isoformat())) + '-' + (getHM(t2.isoformat()) if 'mm' in mode[1] else getH(t2.isoformat()))\n",
    "        hum.append(h)\n",
    "        mac.append(m)"
   ]
  },
  {
   "cell_type": "code",
   "execution_count": 15,
   "metadata": {},
   "outputs": [],
   "source": [
    "with open(\"time.txt\", \"w\", encoding=\"utf-8\") as outputfile:\n",
    "    for i in range(len(hum)):\n",
    "        outputfile.write(hum[i] + '\\t' + mac[i] + '\\n')"
   ]
  },
  {
   "cell_type": "code",
   "execution_count": null,
   "metadata": {},
   "outputs": [],
   "source": []
  }
 ],
 "metadata": {
  "kernelspec": {
   "display_name": "Python 3",
   "language": "python",
   "name": "python3"
  },
  "language_info": {
   "codemirror_mode": {
    "name": "ipython",
    "version": 3
   },
   "file_extension": ".py",
   "mimetype": "text/x-python",
   "name": "python",
   "nbconvert_exporter": "python",
   "pygments_lexer": "ipython3",
   "version": "3.7.5"
  }
 },
 "nbformat": 4,
 "nbformat_minor": 2
}
