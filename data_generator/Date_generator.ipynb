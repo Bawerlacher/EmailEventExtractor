{
 "cells": [
  {
   "cell_type": "code",
   "execution_count": 39,
   "metadata": {},
   "outputs": [],
   "source": [
    "from faker import Faker\n",
    "from babel.dates import format_date\n",
    "import random"
   ]
  },
  {
   "cell_type": "code",
   "execution_count": 42,
   "metadata": {},
   "outputs": [],
   "source": [
    "format2 = [\"short\", \"d.M.YYYY\", \"d M YYYY\", \"d/M/YYYY\",  \"M.d.YYYY\", \"M/d/YYYY\", \"M d YYYY\", \"YYYY.M.d\", \"YYYY M d\", \"YYYY/M/d\"]"
   ]
  },
  {
   "cell_type": "code",
   "execution_count": 146,
   "metadata": {},
   "outputs": [],
   "source": [
    "format3 = ['MM.dd', 'M.d', 'MM/dd', 'M/d', 'MM dd', 'M d']"
   ]
  },
  {
   "cell_type": "code",
   "execution_count": 31,
   "metadata": {},
   "outputs": [],
   "source": [
    "formats = [\"short\", \"dd.MM.YYYY\", \"dd-MM-YYYY\", \"dd MM YYYY\", \"MM.dd.YYYY\", \"MM-dd-YYYY\", \"MM dd YYYY\", \"YYYY.MM.dd\", \"YYYY-MM-dd\", \"YYYY-MM-dd\"]"
   ]
  },
  {
   "cell_type": "code",
   "execution_count": 142,
   "metadata": {},
   "outputs": [],
   "source": [
    "def getMD(s):\n",
    "    return '0000'+'-'+s[5:]"
   ]
  },
  {
   "cell_type": "code",
   "execution_count": 147,
   "metadata": {},
   "outputs": [],
   "source": [
    "hum = []\n",
    "mac = []\n",
    "for i in range(5000):\n",
    "    date = fake.date_object()\n",
    "    hum.append(format_date(date, format=random.choice(format3), locale='en_US'))\n",
    "    mac.append(getMD(date.isoformat()))"
   ]
  },
  {
   "cell_type": "code",
   "execution_count": 148,
   "metadata": {},
   "outputs": [],
   "source": [
    "with open(\"dates.txt\", \"w\", encoding=\"utf-8\") as outputfile:\n",
    "    for i in range(len(hum)):\n",
    "        outputfile.write(hum[i] + '\\t' + mac[i] + '\\n')"
   ]
  },
  {
   "cell_type": "code",
   "execution_count": 7,
   "metadata": {},
   "outputs": [],
   "source": [
    "monad = ['Jan.', 'Feb.', 'Mar.', 'Apr.', 'May.', 'Jun.', 'Jul.', 'Aug', 'Sept.', 'Oct.', 'Nov.', 'Dec.']\n",
    "mona = ['Jan', 'Feb', 'Mar', 'Apr', 'May', 'Jun', 'Jul', 'Aug', 'Sept', 'Oct', 'Nov', 'Dec']\n",
    "mon = ['January', 'February', 'March', 'April', 'May', 'June', 'July', 'August', 'September', 'October', 'November', 'December']\n",
    "month = [monad, mona, mon]"
   ]
  },
  {
   "cell_type": "code",
   "execution_count": 5,
   "metadata": {},
   "outputs": [],
   "source": [
    "data = []\n",
    "key = []"
   ]
  },
  {
   "cell_type": "code",
   "execution_count": 6,
   "metadata": {},
   "outputs": [],
   "source": [
    "import random"
   ]
  },
  {
   "cell_type": "code",
   "execution_count": 9,
   "metadata": {},
   "outputs": [],
   "source": [
    "d = list(range(0, 31))\n",
    "for i in range(len(d)):\n",
    "    d[i] += 1"
   ]
  },
  {
   "cell_type": "code",
   "execution_count": 15,
   "metadata": {},
   "outputs": [],
   "source": [
    "da = d[:]\n",
    "for i in range(len(da)):\n",
    "    if da[i] % 10 == 1:\n",
    "        da[i] = str(da[i]) + 'st'\n",
    "    elif da[i] % 10 == 2:\n",
    "        da[i] = str(da[i]) + 'nd'\n",
    "    elif da[i] % 10 == 3:\n",
    "        da[i] = str(da[i]) + 'rd'\n",
    "    else:\n",
    "        da[i] = str(da[i]) + 'th'\n",
    "da[10] = '11th'\n",
    "da[11] = '12th'\n",
    "da[12] = '13th'"
   ]
  },
  {
   "cell_type": "code",
   "execution_count": 19,
   "metadata": {},
   "outputs": [],
   "source": [
    "for i in range(len(d)):\n",
    "    d[i] = str(d[i])"
   ]
  },
  {
   "cell_type": "code",
   "execution_count": 22,
   "metadata": {},
   "outputs": [],
   "source": [
    "day = [d, da]"
   ]
  },
  {
   "cell_type": "code",
   "execution_count": 25,
   "metadata": {},
   "outputs": [],
   "source": [
    "label = []\n",
    "data = []\n",
    "for x in range(10000):\n",
    "    mlst = random.choice(month)\n",
    "    dlst = random.choice(day)\n",
    "    m = random.choice(mlst)\n",
    "    d = random.choice(dlst)\n",
    "    mkey = mlst.index(m) + 1\n",
    "    if mkey < 10:\n",
    "        mkey = '0'+str(mkey)\n",
    "    else:\n",
    "        mkey = str(mkey)\n",
    "    dkey = dlst.index(d) + 1\n",
    "    if dkey < 10:\n",
    "        dkey = '0' + str(dkey)\n",
    "    else:\n",
    "        dkey = str(dkey)\n",
    "    ex = m + ' ' + d\n",
    "    key = '0000-'+mkey+'-'+dkey\n",
    "    data.append(ex)\n",
    "    label.append(key)"
   ]
  },
  {
   "cell_type": "code",
   "execution_count": 27,
   "metadata": {},
   "outputs": [],
   "source": [
    "with open('dates.txt', 'w', encoding='utf-8') as outputfile:\n",
    "    for i in range(len(label)):\n",
    "        outputfile.write(data[i] + '\\t' + label[i] + '\\n')"
   ]
  }
 ],
 "metadata": {
  "kernelspec": {
   "display_name": "Python 3",
   "language": "python",
   "name": "python3"
  },
  "language_info": {
   "codemirror_mode": {
    "name": "ipython",
    "version": 3
   },
   "file_extension": ".py",
   "mimetype": "text/x-python",
   "name": "python",
   "nbconvert_exporter": "python",
   "pygments_lexer": "ipython3",
   "version": "3.7.5"
  }
 },
 "nbformat": 4,
 "nbformat_minor": 2
}
